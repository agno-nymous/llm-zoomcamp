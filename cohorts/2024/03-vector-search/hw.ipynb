{
 "cells": [
  {
   "cell_type": "code",
   "execution_count": 1,
   "metadata": {},
   "outputs": [
    {
     "name": "stderr",
     "output_type": "stream",
     "text": [
      "/Users/ashishthomaschempolil/.local/share/virtualenvs/llm-zoomcamp-By3Nq6--/lib/python3.10/site-packages/sentence_transformers/cross_encoder/CrossEncoder.py:11: TqdmExperimentalWarning: Using `tqdm.autonotebook.tqdm` in notebook mode. Use `tqdm.tqdm` instead to force console mode (e.g. in jupyter console)\n",
      "  from tqdm.autonotebook import tqdm, trange\n"
     ]
    },
    {
     "data": {
      "application/vnd.jupyter.widget-view+json": {
       "model_id": "c201eb2d693540f4b39bc01d9d8c9f96",
       "version_major": 2,
       "version_minor": 0
      },
      "text/plain": [
       "modules.json:   0%|          | 0.00/349 [00:00<?, ?B/s]"
      ]
     },
     "metadata": {},
     "output_type": "display_data"
    },
    {
     "data": {
      "application/vnd.jupyter.widget-view+json": {
       "model_id": "67fbf6dfd69a4debb54334855cc93b19",
       "version_major": 2,
       "version_minor": 0
      },
      "text/plain": [
       "config_sentence_transformers.json:   0%|          | 0.00/116 [00:00<?, ?B/s]"
      ]
     },
     "metadata": {},
     "output_type": "display_data"
    },
    {
     "data": {
      "application/vnd.jupyter.widget-view+json": {
       "model_id": "9b932a8e80b4460fb6f0b675d42d6804",
       "version_major": 2,
       "version_minor": 0
      },
      "text/plain": [
       "README.md:   0%|          | 0.00/9.52k [00:00<?, ?B/s]"
      ]
     },
     "metadata": {},
     "output_type": "display_data"
    },
    {
     "data": {
      "application/vnd.jupyter.widget-view+json": {
       "model_id": "92822e2fd58f4099b9629aa617d7f09f",
       "version_major": 2,
       "version_minor": 0
      },
      "text/plain": [
       "sentence_bert_config.json:   0%|          | 0.00/53.0 [00:00<?, ?B/s]"
      ]
     },
     "metadata": {},
     "output_type": "display_data"
    },
    {
     "data": {
      "application/vnd.jupyter.widget-view+json": {
       "model_id": "25f4e40cb73a48c4a56802e8afe9c8dc",
       "version_major": 2,
       "version_minor": 0
      },
      "text/plain": [
       "config.json:   0%|          | 0.00/523 [00:00<?, ?B/s]"
      ]
     },
     "metadata": {},
     "output_type": "display_data"
    },
    {
     "data": {
      "application/vnd.jupyter.widget-view+json": {
       "model_id": "d91f6b45aa744b6982939124bd4887b5",
       "version_major": 2,
       "version_minor": 0
      },
      "text/plain": [
       "model.safetensors:   0%|          | 0.00/265M [00:00<?, ?B/s]"
      ]
     },
     "metadata": {},
     "output_type": "display_data"
    },
    {
     "data": {
      "application/vnd.jupyter.widget-view+json": {
       "model_id": "423b2b6a38cb4de5a3d427cb519ce17f",
       "version_major": 2,
       "version_minor": 0
      },
      "text/plain": [
       "tokenizer_config.json:   0%|          | 0.00/333 [00:00<?, ?B/s]"
      ]
     },
     "metadata": {},
     "output_type": "display_data"
    },
    {
     "data": {
      "application/vnd.jupyter.widget-view+json": {
       "model_id": "07255c8e09774cf38a94c881fc5cf1fa",
       "version_major": 2,
       "version_minor": 0
      },
      "text/plain": [
       "vocab.txt:   0%|          | 0.00/232k [00:00<?, ?B/s]"
      ]
     },
     "metadata": {},
     "output_type": "display_data"
    },
    {
     "data": {
      "application/vnd.jupyter.widget-view+json": {
       "model_id": "36c5d568282745fb8f273a218ee79885",
       "version_major": 2,
       "version_minor": 0
      },
      "text/plain": [
       "tokenizer.json:   0%|          | 0.00/466k [00:00<?, ?B/s]"
      ]
     },
     "metadata": {},
     "output_type": "display_data"
    },
    {
     "data": {
      "application/vnd.jupyter.widget-view+json": {
       "model_id": "9ace3103402b4731a5e67a2be7ff9b64",
       "version_major": 2,
       "version_minor": 0
      },
      "text/plain": [
       "special_tokens_map.json:   0%|          | 0.00/112 [00:00<?, ?B/s]"
      ]
     },
     "metadata": {},
     "output_type": "display_data"
    },
    {
     "data": {
      "application/vnd.jupyter.widget-view+json": {
       "model_id": "da1e5113a963498a9d631040c21f3220",
       "version_major": 2,
       "version_minor": 0
      },
      "text/plain": [
       "1_Pooling/config.json:   0%|          | 0.00/190 [00:00<?, ?B/s]"
      ]
     },
     "metadata": {},
     "output_type": "display_data"
    }
   ],
   "source": [
    "from sentence_transformers import SentenceTransformer\n",
    "\n",
    "model_name = 'multi-qa-distilbert-cos-v1'\n",
    "embedding_model = SentenceTransformer(model_name)"
   ]
  },
  {
   "cell_type": "code",
   "execution_count": 2,
   "metadata": {},
   "outputs": [
    {
     "data": {
      "text/plain": [
       "array([ 7.82226175e-02, -4.01311480e-02,  3.86136174e-02, -1.78979419e-04,\n",
       "        8.92346054e-02, -5.04591353e-02, -1.05027072e-02,  3.71056125e-02,\n",
       "       -4.18713838e-02,  3.48085277e-02, -1.20701995e-02, -2.36942172e-02,\n",
       "        3.87899689e-02,  1.60988104e-02,  3.50747332e-02,  3.04757687e-03,\n",
       "        5.79672195e-02, -4.10627648e-02, -3.41552906e-02, -2.56396793e-02,\n",
       "       -3.55264321e-02,  1.42908283e-02, -1.62800662e-02,  3.21446136e-02,\n",
       "       -4.66897637e-02,  7.89186060e-02,  4.90160808e-02,  1.56760961e-02,\n",
       "       -1.69110000e-02,  2.26482209e-02,  5.60205802e-02, -3.98361497e-02,\n",
       "        6.77409470e-02, -1.20210163e-02,  1.12619717e-03, -1.94394737e-02,\n",
       "       -2.65951362e-02,  1.06178075e-02,  1.69687793e-02,  1.13488315e-02,\n",
       "       -2.97062900e-02,  5.25258556e-02, -1.41453119e-02,  4.61699925e-02,\n",
       "        1.17066409e-02, -2.38052960e-02, -6.32557943e-02, -1.92041676e-02,\n",
       "       -7.10593350e-03,  3.24167535e-02,  2.49618571e-02, -5.27498079e-03,\n",
       "        2.01149583e-02, -3.72370444e-02,  3.46405022e-02, -3.29310261e-02,\n",
       "       -2.01484095e-02,  5.07842097e-03, -4.55506630e-02,  7.89170526e-03,\n",
       "       -4.91713695e-02,  4.69897687e-02, -3.74482102e-06,  2.48839501e-02,\n",
       "       -2.96471100e-02,  6.69758487e-03,  3.58087830e-02, -7.18093524e-03,\n",
       "       -3.03277150e-02,  7.95785524e-03,  3.36150154e-02, -2.25490946e-02,\n",
       "       -3.62097658e-02, -2.03928966e-02, -2.70677917e-03, -8.15982446e-02,\n",
       "       -1.43992305e-02,  4.90568914e-02, -2.11568736e-02,  9.31627408e-04,\n",
       "        6.57264665e-02,  4.69609872e-02,  1.23655153e-02, -2.84593459e-02,\n",
       "       -2.57529151e-02,  1.46925803e-02, -5.53987361e-02, -3.05970311e-02,\n",
       "        5.75574189e-02,  2.81941649e-02, -1.30107673e-02, -2.08615456e-02,\n",
       "       -2.43033860e-02, -2.40275655e-02,  4.11576815e-02, -5.92422523e-02,\n",
       "       -1.69005303e-03,  4.00551818e-02,  2.43852660e-02, -1.10904956e-02,\n",
       "       -2.93892045e-02,  2.01826077e-02,  4.22842056e-03,  2.95343604e-02,\n",
       "        3.16522792e-02,  3.00930403e-02,  8.98861047e-03, -8.30621123e-02,\n",
       "       -2.24144068e-02,  1.82182770e-02, -5.66516072e-02, -4.21272404e-02,\n",
       "        3.27233188e-02, -2.10855138e-02, -4.79221903e-03,  1.90162845e-02,\n",
       "        4.55398150e-02, -9.62486584e-03, -2.30316427e-02, -3.52343023e-02,\n",
       "       -3.91419083e-02, -3.46547849e-02,  2.47354880e-02,  4.71566357e-02,\n",
       "        3.46270800e-02,  5.29963560e-02, -2.86405440e-02, -1.71784740e-02,\n",
       "       -1.30145783e-02, -5.79404794e-02,  3.99250984e-02, -5.88766597e-02,\n",
       "        4.57601286e-02,  2.09622309e-02, -1.52759682e-02,  3.25414352e-02,\n",
       "        2.08253171e-02, -2.48041824e-02, -4.24146801e-02,  2.95955203e-02,\n",
       "       -4.62034456e-02,  3.17028798e-02, -7.64969969e-03,  5.84932975e-03,\n",
       "       -3.90673764e-02,  8.11778847e-03, -3.60447280e-02,  6.34325817e-02,\n",
       "       -4.23139147e-02, -1.57092197e-03,  9.18290857e-03, -2.99420767e-02,\n",
       "       -2.27955393e-02, -9.86715779e-03,  2.94452701e-02,  1.75153539e-02,\n",
       "       -1.93444286e-02,  2.40449943e-02,  2.92803310e-02,  4.78759437e-04,\n",
       "        2.55403221e-02, -3.34960073e-02,  3.04799713e-02, -9.45277698e-03,\n",
       "        3.35257351e-02,  5.77760935e-02, -1.58550553e-02, -7.15147778e-02,\n",
       "        6.71699643e-04, -7.77693419e-03, -5.37220314e-02, -1.58578549e-02,\n",
       "        2.93349028e-02, -5.35059422e-02, -2.82785818e-02, -3.81729156e-02,\n",
       "        1.05947652e-03,  3.31670488e-03,  2.60325242e-02, -2.05704346e-02,\n",
       "       -2.55043637e-02, -2.73665655e-02,  2.12153681e-02, -3.17961499e-02,\n",
       "       -2.71618534e-02, -3.00256964e-02, -5.35569862e-02,  1.62939299e-02,\n",
       "        2.55569769e-03,  7.67827854e-02,  3.24226059e-02,  3.80413868e-02,\n",
       "       -2.25356128e-02, -4.81642038e-02,  2.26790197e-02,  1.25548560e-02,\n",
       "       -4.78155278e-02,  4.13825214e-02, -9.52938013e-03,  3.37111540e-02,\n",
       "        3.21243294e-02,  5.91824874e-02, -7.25298077e-02, -7.38686323e-03,\n",
       "       -3.22184041e-02,  3.09309363e-02,  5.23214079e-02,  3.24243307e-02,\n",
       "       -3.95455807e-02, -2.63984799e-02, -2.35443562e-02,  2.39199190e-03,\n",
       "        3.20996381e-02,  8.44294112e-03,  9.85334814e-03,  1.95926614e-02,\n",
       "        3.99372615e-02,  4.52750400e-02,  3.52183282e-02,  1.67367589e-02,\n",
       "        2.65720785e-02, -8.88591819e-03, -1.27367377e-02, -5.89370169e-02,\n",
       "       -2.89509781e-02,  2.18168292e-02, -4.62896824e-02, -5.12739457e-03,\n",
       "       -2.73846611e-02, -4.35680896e-02, -3.33960168e-02,  2.61662505e-03,\n",
       "        6.77051991e-02, -6.68663532e-03,  4.25815880e-02, -8.47998355e-03,\n",
       "       -4.45969701e-02, -4.92076762e-02,  2.54241079e-02,  3.41309421e-02,\n",
       "        4.66176309e-02,  3.41222994e-02, -3.89920063e-02,  6.68450817e-02,\n",
       "        6.32637441e-02, -1.53561104e-02, -6.43572479e-04,  1.88045725e-02,\n",
       "        1.10457744e-02, -2.76161488e-02,  4.89471890e-02, -6.65619597e-02,\n",
       "        4.41555027e-03, -8.06403626e-03, -7.56583735e-02,  5.20582460e-02,\n",
       "       -1.68674979e-02, -1.51841259e-02,  2.59555969e-02,  4.38799802e-03,\n",
       "        1.29939383e-02,  2.37958189e-02, -3.92606109e-02,  3.40799126e-03,\n",
       "       -4.65255342e-02, -5.80669418e-02, -4.86324541e-02,  3.85592915e-02,\n",
       "        1.58163384e-02, -3.55918035e-02, -6.13348782e-02, -4.66559045e-02,\n",
       "        3.48288976e-02, -3.00835781e-02, -3.80522795e-02,  5.35571314e-02,\n",
       "       -4.42222878e-02, -4.11476940e-02,  2.34689936e-02,  4.05510655e-05,\n",
       "       -2.18804367e-03, -2.06344598e-03, -4.33782786e-02, -6.21944258e-04,\n",
       "       -4.64339927e-02,  8.27863142e-02, -1.49072949e-02,  3.24270651e-02,\n",
       "        1.35793118e-02, -1.49163255e-03,  8.62602666e-02,  6.92183003e-02,\n",
       "        4.57405206e-03,  3.55522498e-03,  6.91157803e-02, -9.68691260e-02,\n",
       "        3.21001522e-02, -1.90143026e-02,  7.19639882e-02,  7.18858615e-02,\n",
       "        2.10938957e-02, -8.37267900e-04, -2.27937549e-02,  1.27857076e-02,\n",
       "        9.23394561e-02, -5.41784130e-02,  4.61493358e-02, -7.08937319e-03,\n",
       "       -3.20987441e-02, -3.81699540e-02, -4.22405489e-02,  5.16356528e-02,\n",
       "        1.07125659e-02, -5.59868775e-02, -2.29028333e-02,  3.15916166e-02,\n",
       "       -5.60135469e-02,  1.22198770e-02, -1.85766239e-02, -3.86149739e-03,\n",
       "        5.66245355e-02,  3.09959762e-02,  3.28163244e-02,  5.95071577e-02,\n",
       "       -1.15265734e-02,  2.45990697e-02,  1.98690337e-03,  3.61349955e-02,\n",
       "        7.19022378e-02,  6.74677035e-03, -2.22807806e-02,  3.80801782e-02,\n",
       "       -3.19978856e-02,  4.77899909e-02, -4.88462113e-02, -2.62966901e-02,\n",
       "       -9.14796069e-03, -3.70225236e-02, -2.10672524e-02,  3.66252735e-02,\n",
       "       -2.93563865e-03,  1.90015677e-02, -4.06738296e-02, -9.88852791e-03,\n",
       "       -1.32069644e-02, -1.84205808e-02, -3.04456856e-02, -1.17647834e-02,\n",
       "       -2.16221381e-02, -1.32908020e-02, -4.90810126e-02,  3.75495031e-02,\n",
       "        2.36799717e-02,  6.20989455e-03,  1.94518603e-02,  1.11171184e-02,\n",
       "       -1.27271703e-02, -1.16941407e-02, -4.15579379e-02,  3.03729624e-03,\n",
       "        3.35786045e-02,  2.02150345e-02, -5.23533002e-02, -1.03417980e-02,\n",
       "       -3.44100036e-02, -1.83595121e-02,  1.93087186e-03,  3.44448313e-02,\n",
       "       -2.83047743e-02,  7.25736469e-03,  5.40008359e-02, -2.32119635e-02,\n",
       "       -2.37849839e-02,  5.14848717e-03, -1.04726721e-02, -3.04511189e-02,\n",
       "       -1.45228272e-02,  5.83772324e-02,  6.24929322e-03,  1.76533498e-02,\n",
       "        2.71378104e-02, -2.07602717e-02, -4.82952176e-03,  4.38607410e-02,\n",
       "        4.89790998e-02, -1.84726268e-02,  2.23985426e-02,  2.48787347e-02,\n",
       "       -7.83605501e-03,  2.70838104e-02,  8.69911686e-02,  5.14607616e-02,\n",
       "        2.68817041e-02, -2.45198477e-02,  1.98571179e-02,  2.55423263e-02,\n",
       "       -4.49709371e-02,  1.18260551e-02, -5.71241118e-02,  6.86877966e-02,\n",
       "        2.32738312e-02,  4.34287637e-02,  1.60184596e-02,  3.36551331e-02,\n",
       "        1.18744932e-02,  1.84787437e-02,  2.18717139e-02,  8.06096196e-03,\n",
       "        2.65187304e-02, -1.67911127e-02, -1.14257261e-02,  5.79695925e-02,\n",
       "        2.19955351e-02, -7.88591728e-02,  4.26270813e-02, -7.00563118e-02,\n",
       "        5.12132421e-02,  2.96158474e-02,  4.99608852e-02,  9.40515008e-03,\n",
       "       -4.73498143e-02,  4.21216860e-02, -1.81927327e-02, -7.69210905e-02,\n",
       "        9.72858630e-03, -6.79067373e-02,  1.55992396e-02,  2.72872970e-02,\n",
       "        4.54439782e-03, -2.10018130e-03,  7.53396899e-02,  1.33477501e-03,\n",
       "       -1.99395269e-02, -5.24483658e-02,  3.05679301e-03,  1.98292304e-02,\n",
       "        2.39940342e-02,  1.24235759e-02,  1.47049818e-02,  1.03529328e-02,\n",
       "       -4.38815393e-02,  4.75225896e-02,  3.21548954e-02,  6.52144779e-04,\n",
       "       -2.02530157e-02,  4.32259031e-02, -2.71596760e-02,  1.38091706e-02,\n",
       "       -3.86391394e-02,  2.84992382e-02, -2.27456517e-03,  3.99672091e-02,\n",
       "        1.53476512e-02,  1.32416217e-02, -7.11277053e-02,  3.93648595e-02,\n",
       "        2.51131579e-02, -2.36387905e-02,  1.80941671e-02, -2.43954845e-02,\n",
       "        2.19321344e-03,  3.75051871e-02,  1.56092709e-02,  7.14065228e-03,\n",
       "       -3.41359824e-02,  7.57611403e-03,  2.62275022e-02,  1.14289084e-02,\n",
       "        3.52655724e-02,  2.13694107e-03, -4.56287386e-03, -2.63882596e-02,\n",
       "        6.55588731e-02,  6.00264817e-02, -3.54714841e-02, -1.01351049e-02,\n",
       "        2.56268736e-02, -1.02697194e-01,  3.54785658e-02, -6.22319803e-02,\n",
       "       -1.14733363e-02, -3.44270631e-03,  1.05506927e-03, -2.81986292e-03,\n",
       "        6.26723096e-02, -4.57265563e-02,  1.70463417e-02, -8.05483013e-02,\n",
       "        1.55107733e-02, -2.58653483e-04,  2.01547835e-02,  8.79568700e-03,\n",
       "        2.62558088e-02,  8.31539859e-04, -3.23720202e-02, -5.27924821e-02,\n",
       "        1.55638326e-02,  1.15739871e-02, -2.99579138e-03, -8.24659131e-03,\n",
       "       -3.26188579e-02, -7.73415044e-02, -4.12967354e-02, -2.21012309e-02,\n",
       "        4.75403946e-03, -1.25991134e-02,  1.07522672e-02,  4.99580987e-02,\n",
       "        2.15218104e-02,  2.69317012e-02,  3.28039862e-02,  7.46339280e-03,\n",
       "        1.83876939e-02, -2.74958238e-02, -9.13318340e-03, -1.22791221e-02,\n",
       "        2.07575765e-02,  1.40682133e-02,  1.09913321e-02, -2.26452406e-02,\n",
       "        6.41366020e-02, -1.79608706e-02, -4.23230790e-02, -1.88528409e-03,\n",
       "       -3.59299928e-02,  1.20294662e-02,  1.00361584e-02,  6.56100661e-02,\n",
       "        2.87165791e-02,  2.78465208e-02, -5.23850024e-02,  3.18163373e-02,\n",
       "       -4.65675630e-02,  1.38317076e-02,  2.83224750e-02,  7.78378546e-03,\n",
       "       -9.74420644e-03, -3.97435836e-02, -2.49804724e-02, -2.32912078e-02,\n",
       "       -2.11588778e-02, -6.84606982e-03, -1.95435155e-02, -2.29272284e-02,\n",
       "       -1.46510471e-02, -2.22448781e-02, -1.09536387e-02, -3.67133990e-02,\n",
       "       -1.84324961e-02, -1.04103489e-02, -8.88100546e-03, -1.47620412e-02,\n",
       "       -2.92523392e-02,  1.00569949e-02,  2.28201505e-02,  1.42328045e-03,\n",
       "       -2.35475171e-02, -2.39605550e-02,  5.40141463e-02, -2.16813087e-02,\n",
       "        1.94904301e-02, -3.11478581e-02, -1.54089872e-02, -1.45635102e-02,\n",
       "        5.81609719e-02,  3.05503346e-02, -5.09663997e-03, -1.68099888e-02,\n",
       "       -3.46655548e-02, -2.07241923e-02, -4.60087880e-02,  2.22175079e-03,\n",
       "       -4.44852710e-02,  1.13986507e-02,  3.25434990e-02, -7.11341277e-02,\n",
       "       -2.52612978e-02, -1.93927754e-02,  1.29123013e-02, -3.82378511e-02,\n",
       "       -1.61820780e-02,  3.58506478e-02,  5.04317358e-02, -4.06112662e-03,\n",
       "        1.62504595e-02, -7.24662468e-02,  2.72172056e-02,  1.78223979e-02,\n",
       "        1.37028936e-02,  2.36819815e-02,  2.59892568e-02,  4.08843160e-02,\n",
       "        6.46982761e-03, -1.15187671e-02, -2.65878662e-02,  9.67558660e-03,\n",
       "       -5.31225950e-02,  8.27078591e-04,  1.87265556e-02, -2.92992499e-03,\n",
       "        2.49405038e-02, -1.47512304e-02,  1.41259292e-02,  4.05030213e-02,\n",
       "       -1.27288122e-02, -6.76722825e-02,  4.83829267e-02,  4.07700092e-02,\n",
       "        1.98604744e-02,  3.03293895e-02,  2.63720825e-02,  5.23594171e-02,\n",
       "       -3.34631726e-02, -9.35078412e-03,  1.69177391e-02,  4.34684120e-02,\n",
       "        3.83584723e-02,  4.47563305e-02,  1.90878902e-02, -1.47993229e-02,\n",
       "       -4.34138440e-03,  1.08403731e-02,  4.95935045e-03, -1.63312685e-02,\n",
       "       -1.97152677e-03, -4.17675041e-02,  6.56750873e-02, -6.79402873e-02,\n",
       "        4.33395850e-03, -1.69463400e-02,  2.51759011e-02,  2.56764218e-02,\n",
       "        1.15084718e-03, -1.54735902e-02, -7.34508177e-03, -5.32573089e-02,\n",
       "        3.48776672e-03, -1.38180191e-02, -5.89081980e-02,  2.92867539e-03,\n",
       "        5.04819453e-02,  3.35810171e-03, -8.88556913e-02, -3.84000950e-02,\n",
       "       -2.22147685e-02, -2.82134060e-02, -5.42554725e-03,  2.85600796e-02,\n",
       "       -4.50810827e-02,  7.93241954e-04,  8.93172324e-02,  1.16104521e-02,\n",
       "       -3.18007842e-02,  2.66567413e-02,  2.71803029e-02,  1.89267620e-02,\n",
       "       -2.06058733e-02, -3.02397218e-02, -2.85009462e-02, -3.13029103e-02,\n",
       "       -1.97962727e-02, -6.64771814e-03, -1.67978164e-02, -1.99807677e-02,\n",
       "       -5.34575731e-02, -4.45704063e-04, -2.96823364e-02,  4.37867381e-02,\n",
       "       -1.00503983e-02, -1.09997466e-02,  2.21026037e-02, -3.46549451e-02,\n",
       "        2.11836342e-02,  1.56232938e-02,  2.64695901e-02, -2.34831236e-02,\n",
       "        2.44938098e-02,  4.38888222e-02,  7.06142886e-03, -1.21593969e-02,\n",
       "        1.87902078e-02, -6.91945525e-03,  1.30047081e-02,  1.27160354e-02,\n",
       "       -2.23638257e-03,  2.10030898e-02,  6.99696094e-02,  3.16452757e-02,\n",
       "       -2.35832650e-02,  4.63551376e-03, -6.60416950e-03, -3.26112211e-02,\n",
       "        7.33723342e-02, -8.55091065e-02, -4.05770317e-02,  2.57487409e-02,\n",
       "       -5.12589104e-02,  6.70370013e-02, -1.24506289e-02, -8.91838744e-02,\n",
       "        5.48583232e-02, -4.54949662e-02, -3.45565155e-02, -7.73075372e-02,\n",
       "        4.11657989e-02, -4.30639423e-02,  2.70703640e-02,  3.20440494e-02,\n",
       "       -4.77701798e-02, -1.56586375e-02,  1.72707476e-02, -5.23967519e-02,\n",
       "       -7.17989355e-02,  4.30013239e-03,  7.25270802e-05,  5.29346839e-02,\n",
       "       -3.14253867e-02,  1.90560780e-02,  2.56205965e-02,  7.90969804e-02,\n",
       "        2.13809386e-02, -2.44315472e-02, -1.42572727e-02,  3.64167280e-02,\n",
       "        4.89886589e-02,  2.09607352e-02, -4.13178727e-02,  4.09340262e-02,\n",
       "       -1.21459827e-01,  6.68874905e-02, -3.10792297e-04, -6.26344793e-03,\n",
       "        3.98600399e-02,  5.48594296e-02, -1.15817949e-01,  5.31956665e-02,\n",
       "       -4.32697125e-02,  4.33376282e-02,  2.90152598e-02, -8.89772102e-02,\n",
       "       -2.17882581e-02,  1.54281370e-02,  3.62120308e-02, -9.14941952e-02,\n",
       "       -3.93838948e-03, -3.60861048e-02, -7.26092979e-03,  8.90834257e-03,\n",
       "       -5.32953553e-02,  3.61573249e-02,  8.56206119e-02, -1.42062316e-02,\n",
       "        2.44348440e-02,  1.94476964e-03,  5.81038073e-02, -2.16630101e-02,\n",
       "        2.43256297e-02, -2.31518247e-03, -1.37544167e-03,  5.89746535e-02,\n",
       "        8.06511473e-03, -5.71862515e-03,  2.14907620e-02, -2.76927203e-02,\n",
       "       -3.97251993e-02,  3.13827954e-02,  1.40229415e-03,  5.06811701e-02],\n",
       "      dtype=float32)"
      ]
     },
     "execution_count": 2,
     "metadata": {},
     "output_type": "execute_result"
    }
   ],
   "source": [
    "user_question = \"I just discovered the course. Can I still join it?\"\n",
    "\n",
    "# Encode the user question\n",
    "user_question_embedding = embedding_model.encode(user_question)\n",
    "\n",
    "user_question_embedding"
   ]
  },
  {
   "cell_type": "markdown",
   "metadata": {},
   "source": [
    "# Prepate the documents"
   ]
  },
  {
   "cell_type": "code",
   "execution_count": 7,
   "metadata": {},
   "outputs": [
    {
     "data": {
      "text/plain": [
       "True"
      ]
     },
     "execution_count": 7,
     "metadata": {},
     "output_type": "execute_result"
    }
   ],
   "source": [
    "import requests \n",
    "\n",
    "base_url = 'https://github.com/DataTalksClub/llm-zoomcamp/blob/main'\n",
    "relative_url = '03-vector-search/eval/documents-with-ids.json'\n",
    "docs_url = f'{base_url}/{relative_url}?raw=1'\n",
    "docs_response = requests.get(docs_url)\n",
    "documents = docs_response.json()\n",
    "\n",
    "course = \"machine-learning-zoomcamp\"\n",
    "documents = [doc for doc in documents if doc['course'] == course]\n",
    "\n",
    "len(documents) == 375"
   ]
  },
  {
   "cell_type": "code",
   "execution_count": 8,
   "metadata": {},
   "outputs": [
    {
     "data": {
      "text/plain": [
       "{'text': 'Machine Learning Zoomcamp FAQ\\nThe purpose of this document is to capture frequently asked technical questions.\\nWe did this for our data engineering course and it worked quite well. Check this document for inspiration on how to structure your questions and answers:\\nData Engineering Zoomcamp FAQ\\nIn the course GitHub repository there’s a link. Here it is: https://airtable.com/shryxwLd0COOEaqXo\\nwork',\n",
       " 'section': 'General course-related questions',\n",
       " 'question': 'How do I sign up?',\n",
       " 'course': 'machine-learning-zoomcamp',\n",
       " 'id': '0227b872'}"
      ]
     },
     "execution_count": 8,
     "metadata": {},
     "output_type": "execute_result"
    }
   ],
   "source": [
    "documents[0]"
   ]
  },
  {
   "cell_type": "code",
   "execution_count": 10,
   "metadata": {},
   "outputs": [
    {
     "data": {
      "text/plain": [
       "(375, 768)"
      ]
     },
     "execution_count": 10,
     "metadata": {},
     "output_type": "execute_result"
    }
   ],
   "source": [
    "embeddings = []\n",
    "\n",
    "for doc in documents:\n",
    "    question = doc['question']\n",
    "    text = doc['text']\n",
    "    qa_text = f\"{question} {text}\"\n",
    "    embedding = embedding_model.encode(qa_text)\n",
    "    embeddings.append(embedding)\n",
    "\n",
    "import numpy as np\n",
    "\n",
    "X = np.array(embeddings)\n",
    "\n",
    "X.shape"
   ]
  },
  {
   "cell_type": "markdown",
   "metadata": {},
   "source": [
    "# Search"
   ]
  },
  {
   "cell_type": "code",
   "execution_count": 11,
   "metadata": {},
   "outputs": [
    {
     "data": {
      "text/plain": [
       "(768,)"
      ]
     },
     "execution_count": 11,
     "metadata": {},
     "output_type": "execute_result"
    }
   ],
   "source": [
    "user_question_embedding.shape"
   ]
  },
  {
   "cell_type": "code",
   "execution_count": 16,
   "metadata": {},
   "outputs": [
    {
     "data": {
      "text/plain": [
       "0.65065753"
      ]
     },
     "execution_count": 16,
     "metadata": {},
     "output_type": "execute_result"
    }
   ],
   "source": [
    "v = user_question_embedding\n",
    "\n",
    "scores = X.dot(v)\n",
    "\n",
    "#highest score\n",
    "\n",
    "idx = np.argmax(scores)\n",
    "\n",
    "scores[idx]"
   ]
  },
  {
   "cell_type": "markdown",
   "metadata": {},
   "source": [
    "# Vector Search"
   ]
  },
  {
   "cell_type": "code",
   "execution_count": 17,
   "metadata": {},
   "outputs": [
    {
     "data": {
      "text/plain": [
       "[{'text': 'Yes, you can. You won’t be able to submit some of the homeworks, but you can still take part in the course.\\nIn order to get a certificate, you need to submit 2 out of 3 course projects and review 3 peers’ Projects by the deadline. It means that if you join the course at the end of November and manage to work on two projects, you will still be eligible for a certificate.',\n",
       "  'section': 'General course-related questions',\n",
       "  'question': 'The course has already started. Can I still join it?',\n",
       "  'course': 'machine-learning-zoomcamp',\n",
       "  'id': 'ee58a693'},\n",
       " {'text': 'Welcome to the course! Go to the course page (http://mlzoomcamp.com/), scroll down and start going through the course materials. Then read everything in the cohort folder for your cohort’s year.\\nClick on the links and start watching the videos. Also watch office hours from previous cohorts. Go to DTC youtube channel and click on Playlists and search for {course yyyy}. ML Zoomcamp was first launched in 2021.\\nOr you can just use this link: http://mlzoomcamp.com/#syllabus',\n",
       "  'section': 'General course-related questions',\n",
       "  'question': 'I just joined. What should I do next? How can I access course materials?',\n",
       "  'course': 'machine-learning-zoomcamp',\n",
       "  'id': '0a278fb2'},\n",
       " {'text': \"The process is automated now, so you should receive the email eventually. If you haven’t, check your promotions tab in Gmail as well as spam.\\nIf you unsubscribed from our newsletter, you won't get course related updates too.\\nBut don't worry, it’s not a problem. To make sure you don’t miss anything, join the #course-ml-zoomcamp channel in Slack and our telegram channel with announcements. This is enough to follow the course.\",\n",
       "  'section': 'General course-related questions',\n",
       "  'question': \"I filled the form, but haven't received a confirmation email. Is it normal?\",\n",
       "  'course': 'machine-learning-zoomcamp',\n",
       "  'id': '6ba259b1'},\n",
       " {'text': 'Technically, yes. Advisable? Not really. Reasons:\\nSome homework(s) asks for specific python library versions.\\nAnswers may not match in MCQ options if using different languages other than Python 3.10 (the recommended version for 2023 cohort)\\nAnd as for midterms/capstones, your peer-reviewers may not know these other languages. Do you want to be penalized for others not knowing these other languages?\\nYou can create a separate repo using course’s lessons but written in other languages for your own learnings, but not advisable for submissions.\\ntx[source]',\n",
       "  'section': 'Miscellaneous',\n",
       "  'question': 'Can I do the course in other languages, like R or Scala?',\n",
       "  'course': 'machine-learning-zoomcamp',\n",
       "  'id': '9f261648'},\n",
       " {'text': 'We won’t re-record the course videos. The focus of the course and the skills we want to teach remained the same, and the videos are still up-to-date.\\nIf you haven’t taken part in the previous iteration, you can start watching the videos. It’ll be useful for you and you will learn new things. However, we recommend using Python 3.10 now instead of Python 3.8.',\n",
       "  'section': 'General course-related questions',\n",
       "  'question': 'The course videos are from the previous iteration. Will you release new ones or we’ll use the videos from 2021?',\n",
       "  'course': 'machine-learning-zoomcamp',\n",
       "  'id': 'e7ba6b8a'}]"
      ]
     },
     "execution_count": 17,
     "metadata": {},
     "output_type": "execute_result"
    }
   ],
   "source": [
    "class VectorSearchEngine():\n",
    "    def __init__(self, documents, embeddings):\n",
    "        self.documents = documents\n",
    "        self.embeddings = embeddings\n",
    "\n",
    "    def search(self, v_query, num_results=10):\n",
    "        scores = self.embeddings.dot(v_query)\n",
    "        idx = np.argsort(-scores)[:num_results]\n",
    "        return [self.documents[i] for i in idx]\n",
    "\n",
    "search_engine = VectorSearchEngine(documents=documents, embeddings=X)\n",
    "search_engine.search(v, num_results=5)"
   ]
  },
  {
   "cell_type": "markdown",
   "metadata": {},
   "source": [
    "# Hit Rate"
   ]
  },
  {
   "cell_type": "code",
   "execution_count": 18,
   "metadata": {},
   "outputs": [],
   "source": [
    "import pandas as pd\n",
    "\n",
    "base_url = 'https://github.com/DataTalksClub/llm-zoomcamp/blob/main'\n",
    "relative_url = '03-vector-search/eval/ground-truth-data.csv'\n",
    "ground_truth_url = f'{base_url}/{relative_url}?raw=1'\n",
    "\n",
    "df_ground_truth = pd.read_csv(ground_truth_url)\n",
    "df_ground_truth = df_ground_truth[df_ground_truth.course == 'machine-learning-zoomcamp']\n",
    "ground_truth = df_ground_truth.to_dict(orient='records')"
   ]
  },
  {
   "cell_type": "code",
   "execution_count": 23,
   "metadata": {},
   "outputs": [
    {
     "data": {
      "text/plain": [
       "{'question': 'Where can I sign up for the course?',\n",
       " 'course': 'machine-learning-zoomcamp',\n",
       " 'document': '0227b872'}"
      ]
     },
     "execution_count": 23,
     "metadata": {},
     "output_type": "execute_result"
    }
   ],
   "source": [
    "ground_truth[0]"
   ]
  },
  {
   "cell_type": "code",
   "execution_count": 57,
   "metadata": {},
   "outputs": [],
   "source": [
    "# Hit rate: Defined Measures the proportion of queries for which at least one relevant document is retrieved in the top k results.\n",
    "# Formula: HR@k = (Number of queries with at least one relevant document in top k) / |Q|\n",
    "\n",
    "def hit_rate(ground_truth, search_engine, k=5, **kwargs):\n",
    "    num_queries = len(ground_truth)\n",
    "    num_hits = 0\n",
    "\n",
    "    for gt in ground_truth:\n",
    "        gt_q = gt['question']\n",
    "        gt_doc_id = gt['document']\n",
    "        v = embedding_model.encode(gt_q)\n",
    "        search_results = search_engine.search(v, num_results=k, **kwargs)\n",
    "        search_results_ids = [r['id'] for r in search_results]\n",
    "\n",
    "        #check if the document_id is in the search results\n",
    "        if gt_doc_id in search_results_ids:\n",
    "            num_hits += 1\n",
    "\n",
    "    return num_hits / num_queries"
   ]
  },
  {
   "cell_type": "code",
   "execution_count": 29,
   "metadata": {},
   "outputs": [
    {
     "data": {
      "text/plain": [
       "0.9398907103825137"
      ]
     },
     "execution_count": 29,
     "metadata": {},
     "output_type": "execute_result"
    }
   ],
   "source": [
    "hit_rate(ground_truth, search_engine, k=5)"
   ]
  },
  {
   "cell_type": "markdown",
   "metadata": {},
   "source": [
    "# Elastic Search"
   ]
  },
  {
   "cell_type": "code",
   "execution_count": 31,
   "metadata": {},
   "outputs": [
    {
     "data": {
      "text/plain": [
       "ObjectApiResponse({'name': '88dae1711f88', 'cluster_name': 'docker-cluster', 'cluster_uuid': '5iv8RXAgTZOf6VQjtfOfZw', 'version': {'number': '8.4.3', 'build_flavor': 'default', 'build_type': 'docker', 'build_hash': '42f05b9372a9a4a470db3b52817899b99a76ee73', 'build_date': '2022-10-04T07:17:24.662462378Z', 'build_snapshot': False, 'lucene_version': '9.3.0', 'minimum_wire_compatibility_version': '7.17.0', 'minimum_index_compatibility_version': '7.0.0'}, 'tagline': 'You Know, for Search'})"
      ]
     },
     "execution_count": 31,
     "metadata": {},
     "output_type": "execute_result"
    }
   ],
   "source": [
    "from elasticsearch import Elasticsearch\n",
    "es_client = Elasticsearch('http://localhost:9200') \n",
    "\n",
    "es_client.info()"
   ]
  },
  {
   "cell_type": "code",
   "execution_count": 48,
   "metadata": {},
   "outputs": [
    {
     "name": "stderr",
     "output_type": "stream",
     "text": [
      "/var/folders/wh/h8m35s8x51nb01cj6wl7489m0000gn/T/ipykernel_11481/1789283777.py:21: DeprecationWarning: Passing transport options in the API method is deprecated. Use 'Elasticsearch.options()' instead.\n",
      "  es_client.indices.delete(index=index_name, ignore=[400, 404])\n"
     ]
    },
    {
     "data": {
      "text/plain": [
       "ObjectApiResponse({'acknowledged': True, 'shards_acknowledged': True, 'index': 'qa_index'})"
      ]
     },
     "execution_count": 48,
     "metadata": {},
     "output_type": "execute_result"
    }
   ],
   "source": [
    "index_settings = {\n",
    "    \"settings\": {\n",
    "        \"number_of_shards\": 1,\n",
    "        \"number_of_replicas\": 0\n",
    "    },\n",
    "    \"mappings\": {\n",
    "        \"properties\": {\n",
    "            \"text\": {\"type\": \"text\"},\n",
    "            \"section\": {\"type\": \"text\"},\n",
    "            \"question\": {\"type\": \"text\"},\n",
    "            \"course\": {\"type\": \"keyword\"},\n",
    "            \"id\": {\"type\": \"keyword\"}, # document id\n",
    "            \"text_vector\": {\"type\": \"dense_vector\", \"dims\": 768, \"index\": True, \"similarity\": \"cosine\"},\n",
    "        }\n",
    "    }\n",
    "}\n",
    "\n",
    "index_name = 'qa_index'\n",
    "\n",
    "#delete the index\n",
    "es_client.indices.delete(index=index_name, ignore=[400, 404])\n",
    "# create the index\n",
    "es_client.indices.create(index=index_name, body=index_settings)"
   ]
  },
  {
   "cell_type": "code",
   "execution_count": 49,
   "metadata": {},
   "outputs": [],
   "source": [
    "for idx, doc in enumerate(documents):\n",
    "    try:\n",
    "        vector = embeddings[idx]\n",
    "        doc['text_vector'] = vector\n",
    "        es_client.index(index=index_name, document=doc)\n",
    "    except Exception as e:\n",
    "        print(e)"
   ]
  },
  {
   "cell_type": "code",
   "execution_count": 50,
   "metadata": {},
   "outputs": [
    {
     "name": "stdout",
     "output_type": "stream",
     "text": [
      "I just discovered the course. Can I still join it?\n"
     ]
    }
   ],
   "source": [
    "print(user_question)"
   ]
  },
  {
   "cell_type": "code",
   "execution_count": 51,
   "metadata": {},
   "outputs": [
    {
     "data": {
      "text/plain": [
       "0.07822262"
      ]
     },
     "execution_count": 51,
     "metadata": {},
     "output_type": "execute_result"
    }
   ],
   "source": [
    "user_question_embedding[0]"
   ]
  },
  {
   "cell_type": "code",
   "execution_count": 65,
   "metadata": {},
   "outputs": [],
   "source": [
    "knn_query = {\n",
    "    \"field\": \"text_vector\",\n",
    "    \"query_vector\": user_question_embedding,\n",
    "    \"k\": 5,\n",
    "    \"num_candidates\": len(documents)\n",
    "}\n",
    "\n",
    "res = es_client.search(index=index_name, knn=knn_query, source=[\"text\", \"section\", \"question\", \"course\", 'id'])"
   ]
  },
  {
   "cell_type": "code",
   "execution_count": 66,
   "metadata": {},
   "outputs": [
    {
     "data": {
      "text/plain": [
       "{'question': 'The course has already started. Can I still join it?',\n",
       " 'course': 'machine-learning-zoomcamp',\n",
       " 'section': 'General course-related questions',\n",
       " 'text': 'Yes, you can. You won’t be able to submit some of the homeworks, but you can still take part in the course.\\nIn order to get a certificate, you need to submit 2 out of 3 course projects and review 3 peers’ Projects by the deadline. It means that if you join the course at the end of November and manage to work on two projects, you will still be eligible for a certificate.',\n",
       " 'id': 'ee58a693'}"
      ]
     },
     "execution_count": 66,
     "metadata": {},
     "output_type": "execute_result"
    }
   ],
   "source": [
    "res['hits']['hits'][0]['_source']"
   ]
  },
  {
   "cell_type": "code",
   "execution_count": 67,
   "metadata": {},
   "outputs": [],
   "source": [
    "#Elasticsearch uses approximate techniques to make it faster.\n",
    "\n",
    "# Let's evaluate how worse the results are when we switch from exact search (as in Q4) to approximate search with Elastic.\n",
    "\n",
    "# What's hitrate for our dataset for Elastic?\n",
    "\n",
    "def hit_rate_elastic(ground_truth, es_client, index_name, k=5):\n",
    "    num_queries = len(ground_truth)\n",
    "    num_hits = 0\n",
    "\n",
    "    for gt in ground_truth:\n",
    "        gt_q = gt['question']\n",
    "        gt_doc_id = gt['document']\n",
    "        v = embedding_model.encode(gt_q)\n",
    "\n",
    "        knn_query = {\n",
    "            \"field\": \"text_vector\",\n",
    "            \"query_vector\": v,\n",
    "            \"k\": k,\n",
    "            \"num_candidates\": len(documents)\n",
    "        }\n",
    "\n",
    "        res = es_client.search(index=index_name, knn=knn_query, source=[\"id\"])\n",
    "        search_results_ids = [r['_source']['id'] for r in res['hits']['hits']]\n",
    "\n",
    "        if gt_doc_id in search_results_ids:\n",
    "            num_hits += 1\n",
    "\n",
    "    return num_hits / num_queries"
   ]
  },
  {
   "cell_type": "code",
   "execution_count": 68,
   "metadata": {},
   "outputs": [
    {
     "data": {
      "text/plain": [
       "0.9398907103825137"
      ]
     },
     "execution_count": 68,
     "metadata": {},
     "output_type": "execute_result"
    }
   ],
   "source": [
    "hit_rate_elastic(ground_truth, es_client, index_name, k=5)"
   ]
  }
 ],
 "metadata": {
  "kernelspec": {
   "display_name": "llm-zoomcamp-By3Nq6--",
   "language": "python",
   "name": "python3"
  },
  "language_info": {
   "codemirror_mode": {
    "name": "ipython",
    "version": 3
   },
   "file_extension": ".py",
   "mimetype": "text/x-python",
   "name": "python",
   "nbconvert_exporter": "python",
   "pygments_lexer": "ipython3",
   "version": "3.10.12"
  }
 },
 "nbformat": 4,
 "nbformat_minor": 2
}
